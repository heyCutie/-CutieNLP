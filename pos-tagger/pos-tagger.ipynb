{
 "cells": [
  {
   "cell_type": "code",
   "execution_count": 2,
   "metadata": {
    "collapsed": true
   },
   "outputs": [],
   "source": [
    "import numpy as np"
   ]
  },
  {
   "cell_type": "code",
   "execution_count": 3,
   "metadata": {
    "collapsed": true
   },
   "outputs": [],
   "source": [
    "tag2id, id2tag = {}, {}  # maps tag to id . tag2id: {\"VB\": 0, \"NNP\":1,..} , id2tag: {0: \"VB\", 1: \"NNP\"....}\n",
    "word2id, id2word = {}, {} # maps word to id\n",
    "\n",
    "for line in open('traindata.txt'):\n",
    "    items = line.split('/')\n",
    "    word, tag = items[0], items[1].rstrip()\n",
    "    \n",
    "    if word not in word2id:\n",
    "        word2id[word] = len(word2id)\n",
    "        id2word[len(id2word)] = word\n",
    "        \n",
    "    if tag not in tag2id:\n",
    "        tag2id[tag] = len(tag2id)\n",
    "        id2tag[len(id2tag)] = tag\n",
    "        \n",
    "M, N = len(word2id), len(tag2id)   "
   ]
  },
  {
   "cell_type": "code",
   "execution_count": 4,
   "metadata": {
    "collapsed": true
   },
   "outputs": [],
   "source": [
    "pi = np.zeros(N) # the probability of a tag\n",
    "A = np.zeros((N, M)) # given a tag, the probability of a word\n",
    "B = np.zeros((N, N)) # transition matrix of tag"
   ]
  },
  {
   "cell_type": "code",
   "execution_count": 5,
   "metadata": {},
   "outputs": [],
   "source": [
    "prev_tag = ''\n",
    "for line in open('traindata.txt'):\n",
    "    items = line.split('/')\n",
    "    word, tag = items[0], items[1].rstrip()\n",
    "    \n",
    "    if prev_tag=='':\n",
    "        pi[tag2id[tag]] += 1\n",
    "        A[tag2id[tag]][word2id[word]] += 1\n",
    "    else:\n",
    "        B[tag2id[prev_tag]][tag2id[tag]] += 1\n",
    "        A[tag2id[tag]][word2id[word]] += 1\n",
    "        \n",
    "    if word=='.':\n",
    "        prev_tag = ''\n",
    "    else:\n",
    "        prev_tag = tag\n",
    "        \n",
    "pi /= sum(pi)\n",
    "for i in range(N):\n",
    "    A[i] /= sum(A[i])\n",
    "    B[i] /= sum(B[i])\n",
    "        "
   ]
  },
  {
   "cell_type": "code",
   "execution_count": 6,
   "metadata": {
    "collapsed": true
   },
   "outputs": [],
   "source": [
    "def log(v):\n",
    "    if v == 0:\n",
    "        return np.log(v+0.000001)\n",
    "    return np.log(v)"
   ]
  },
  {
   "cell_type": "code",
   "execution_count": 14,
   "metadata": {
    "collapsed": true
   },
   "outputs": [],
   "source": [
    "def viterbi(sent, A, B, pi):\n",
    "    x = [word2id[x] for x in sent.split(' ')]\n",
    "    T = len(x)\n",
    "    \n",
    "    dp = np.zeros((T, N))\n",
    "    ptr = np.zeros((T,N), dtype=int)\n",
    "    \n",
    "    for i in range(N):\n",
    "        dp[0][i] = log(pi[i]) + log(A[i][x[0]])\n",
    "    \n",
    "    for i in range(1,T):\n",
    "        for j in range(N):\n",
    "            dp[i][j] = -99999\n",
    "            for k in range(N):\n",
    "                score = dp[i-1][k] + log(A[j][x[i]]) + log(B[k][j])\n",
    "                if score>dp[i][j]:\n",
    "                    dp[i][j] = score\n",
    "                    ptr[i][j] = k\n",
    "                    \n",
    "    # decoding: 把最好的tag sequence 打印出来\n",
    "    best_seq = [0]*T  # best_seq = [1,5,2,23,4,...]  \n",
    "    # step1: 找出对应于最后一个单词的词性\n",
    "    best_seq[T-1] = np.argmax(dp[T-1])\n",
    "    \n",
    "    for i in range(T-2, -1, -1):\n",
    "        best_seq[i] = ptr[i+1][best_seq[i+1]]\n",
    "        \n",
    "    for i in range(T):\n",
    "        print(id2tag[best_seq[i]])"
   ]
  },
  {
   "cell_type": "code",
   "execution_count": 15,
   "metadata": {},
   "outputs": [
    {
     "name": "stdout",
     "output_type": "stream",
     "text": [
      "PRP\n",
      "VBP\n",
      "VBG\n",
      "NN\n"
     ]
    }
   ],
   "source": [
    "viterbi(\"I like playing piano\", A, B, pi)"
   ]
  },
  {
   "cell_type": "code",
   "execution_count": null,
   "metadata": {
    "collapsed": true
   },
   "outputs": [],
   "source": []
  }
 ],
 "metadata": {
  "kernelspec": {
   "display_name": "Python 3",
   "language": "python",
   "name": "python3"
  },
  "language_info": {
   "codemirror_mode": {
    "name": "ipython",
    "version": 3
   },
   "file_extension": ".py",
   "mimetype": "text/x-python",
   "name": "python",
   "nbconvert_exporter": "python",
   "pygments_lexer": "ipython3",
   "version": "3.6.3"
  }
 },
 "nbformat": 4,
 "nbformat_minor": 2
}
